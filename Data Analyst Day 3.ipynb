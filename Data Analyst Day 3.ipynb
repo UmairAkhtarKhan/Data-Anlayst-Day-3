{
 "cells": [
  {
   "cell_type": "code",
   "execution_count": 28,
   "id": "0abae4f2-e7e5-4868-9cc2-fcf54a9b74e4",
   "metadata": {},
   "outputs": [
    {
     "name": "stdout",
     "output_type": "stream",
     "text": [
      "{'dog', 'elephant', 'Lion'} <class 'set'>\n",
      "{1, 34, 23, 12, 45}\n",
      "5\n",
      "{1.1, 12, True, 'abc'}\n",
      "{(1, 2, 3, 4), 34, 12}\n",
      "{1, 2, 3, 4, 56}\n",
      "set() <class 'type'>\n",
      "dog\n",
      "elephant\n",
      "Lion\n",
      "True\n",
      "{'dog', 'elephant', 'Lion', 100}\n",
      "{(1, 2, 3, 4), 34, 100, 'dog', 'elephant', 'Lion', 12}\n",
      "{(1, 2, 3, 4), 34, 100, 'dog', 'elephant', 'Lion'}\n",
      "{34, 100, 'dog', 'elephant', 'Lion'}\n",
      "set()\n",
      "{1, 'c', 2, 3, 4, 'a', 'b'}\n",
      "WHOLE Items Of Set {0, 2, 3, 100, 1000, 700}\n",
      "Find Max Vale Of Set 1000\n",
      "Find the min value of set 0\n",
      "{9, 2, 10, 4}\n"
     ]
    }
   ],
   "source": [
    "# Sets set is a collection of well defined distinct objects ,typically called elements or members\n",
    "# we can say groping of distinct objects is set,sets are immutable like tuple ,we can add and remove item but not can change existing items.\n",
    "# sets are use to store multiple items in one single variable,like list,tuple and dictionary etc\n",
    "a={'Lion','elephant','dog'}\n",
    "print(a,type(a))\n",
    "# sets are unordered ,unindexed  and unchangeable and donot support duplication\n",
    "# print(a[1]) it dose not support any index or order\n",
    "# true and 1 consider as same value in set \n",
    "s1={12,23,45,1,34,True}\n",
    "print(s1)\n",
    "# lenth of set \n",
    "print(len(s1))\n",
    "# can store multiple values in set\n",
    "s3={1.1,'abc',12,True}\n",
    "print(s3)\n",
    "# we can not store list and dictionary inside set but can store tuple because tuple is immuteable \n",
    "# and we cant do nesting in set we can not store set inside set\n",
    "s4={(1,2,3,4),12,34}\n",
    "print(s4)\n",
    "# creating set with constructor\n",
    "sc=set({1,2,3,4,56})\n",
    "print(sc)\n",
    "# creating empty set(if we write empty={} it will become empty dictionary)\n",
    "empty=set()\n",
    "print(empty,type(set))\n",
    "# for loop in set\n",
    "for i in a:\n",
    "    print(i)\n",
    "# if you want to check any item exist in set we can write\n",
    "print('dog' in a)\n",
    "# adding items in set\n",
    "a.add(100)\n",
    "print(a)\n",
    "# if you want to add one set in another set we se udate function\n",
    "# now we will add s4 set in a set\n",
    "a.update(s4)\n",
    "print(a)\n",
    "# remove item in set\n",
    "a.remove(12)\n",
    "print(a)\n",
    "# pop function will remove any random element from the set\n",
    "a.pop()\n",
    "print(a)\n",
    "# del sc (del function will delete the wholeitems and also delete the set object)\n",
    "# clear function will delete the all item in the set but set as object exist\n",
    "s4.clear()\n",
    "print(s4)\n",
    "# joining two sets by union function\n",
    "x={'a','b','c'}\n",
    "y={1,2,3,4}\n",
    "z=x.union(y) \n",
    "print(z)\n",
    "# write python programme to find the max and min value in the set\n",
    "x1={100,2,3,700,1000,0}\n",
    "print('WHOLE Items Of Set',x1)\n",
    "# we use max function to find the maximum value in the set\n",
    "print('Find Max Vale Of Set',max(x1))\n",
    "# we use min function to find the minimum value of set\n",
    "print('Find the min value of set',min(x1))\n",
    "# find the simmilar values between two sets\n",
    "# we will intersect function\n",
    "d={1,2,3,4,5,67,8,9,10}\n",
    "e={2,4,6,9,20,10}\n",
    "print(d.intersection(e))"
   ]
  },
  {
   "cell_type": "code",
   "execution_count": null,
   "id": "44f52d18-fd60-4a2b-8c23-7fa0140636d7",
   "metadata": {},
   "outputs": [],
   "source": []
  },
  {
   "cell_type": "code",
   "execution_count": null,
   "id": "31c5493f-40b2-4165-b095-7bf0b814910e",
   "metadata": {},
   "outputs": [],
   "source": []
  },
  {
   "cell_type": "code",
   "execution_count": null,
   "id": "22b159f1-7c92-411c-9b7e-069056880fcb",
   "metadata": {},
   "outputs": [],
   "source": []
  },
  {
   "cell_type": "code",
   "execution_count": null,
   "id": "de65e051-4e1d-4beb-9b64-c4049d6e3557",
   "metadata": {},
   "outputs": [],
   "source": []
  }
 ],
 "metadata": {
  "kernelspec": {
   "display_name": "Python 3 (ipykernel)",
   "language": "python",
   "name": "python3"
  },
  "language_info": {
   "codemirror_mode": {
    "name": "ipython",
    "version": 3
   },
   "file_extension": ".py",
   "mimetype": "text/x-python",
   "name": "python",
   "nbconvert_exporter": "python",
   "pygments_lexer": "ipython3",
   "version": "3.11.7"
  }
 },
 "nbformat": 4,
 "nbformat_minor": 5
}
